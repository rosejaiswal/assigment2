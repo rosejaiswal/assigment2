{
 "cells": [
  {
   "cell_type": "code",
   "execution_count": 1,
   "id": "bb688066-d3f3-409c-b249-464319a85128",
   "metadata": {},
   "outputs": [],
   "source": [
    "#Q1. How do you comment code in Python? What are the different types of comments?"
   ]
  },
  {
   "cell_type": "code",
   "execution_count": 2,
   "id": "69372056-1ded-4b67-ac10-9bfad08a9c9a",
   "metadata": {},
   "outputs": [],
   "source": [
    "#we comment code by using #single line comment"
   ]
  },
  {
   "cell_type": "code",
   "execution_count": 3,
   "id": "11fbb4bf-aea5-44a9-960f-2abb76f11668",
   "metadata": {},
   "outputs": [
    {
     "data": {
      "text/plain": [
       "'\\nfor multi line \\ncomment\\n'"
      ]
     },
     "execution_count": 3,
     "metadata": {},
     "output_type": "execute_result"
    }
   ],
   "source": [
    "\"\"\"\n",
    "for multi line \n",
    "comment\n",
    "\"\"\""
   ]
  },
  {
   "cell_type": "code",
   "execution_count": 4,
   "id": "6c30dd54-5efd-49af-9157-6a68ae9b2f23",
   "metadata": {},
   "outputs": [],
   "source": [
    "#Q2. What are variables in Python? How do you declare and assign values to variables?"
   ]
  },
  {
   "cell_type": "code",
   "execution_count": 5,
   "id": "b77db6de-23ce-43c0-8876-6b0019a05c27",
   "metadata": {},
   "outputs": [],
   "source": [
    "# A variable is a name given to a memory location in a program \n",
    "#we assign variable by = sign"
   ]
  },
  {
   "cell_type": "code",
   "execution_count": 6,
   "id": "8df09262-3134-4bf1-899a-2e03c7db95d2",
   "metadata": {},
   "outputs": [],
   "source": [
    "#Q3. How do you convert one data type to another in Python?"
   ]
  },
  {
   "cell_type": "code",
   "execution_count": 7,
   "id": "6f096009-4578-4aa2-bdef-b652024b6894",
   "metadata": {},
   "outputs": [],
   "source": [
    "# we convert one data type to another data type by the process of TYPE CASTING"
   ]
  },
  {
   "cell_type": "code",
   "execution_count": 8,
   "id": "796051e1-3d0f-4a0d-a27a-11de35cca3a2",
   "metadata": {},
   "outputs": [],
   "source": [
    "a,b=1,'2'"
   ]
  },
  {
   "cell_type": "code",
   "execution_count": 9,
   "id": "5bce4167-3e75-458e-9952-18355c5cc07f",
   "metadata": {},
   "outputs": [],
   "source": [
    "c=int(b)"
   ]
  },
  {
   "cell_type": "code",
   "execution_count": 10,
   "id": "483602c4-1fb6-4a38-ac83-569d55e7262e",
   "metadata": {},
   "outputs": [],
   "source": [
    "sum=a+c"
   ]
  },
  {
   "cell_type": "code",
   "execution_count": 11,
   "id": "aa64db38-31db-4718-976d-3015718ab85f",
   "metadata": {},
   "outputs": [
    {
     "name": "stdout",
     "output_type": "stream",
     "text": [
      "3\n"
     ]
    }
   ],
   "source": [
    "print(sum)"
   ]
  },
  {
   "cell_type": "code",
   "execution_count": 12,
   "id": "ec19513e-3544-405c-8a71-74bc5b98464d",
   "metadata": {},
   "outputs": [],
   "source": [
    "#Q5. Given a list my_list = [1, 2, 3, 4, 5], write the code to slice the list and obtain the sub-list [2, 3]."
   ]
  },
  {
   "cell_type": "code",
   "execution_count": 13,
   "id": "c03c2346-3c56-4c7f-92cc-7d6651eb1e58",
   "metadata": {},
   "outputs": [],
   "source": [
    "my_list=[1,2,3,4,5]"
   ]
  },
  {
   "cell_type": "code",
   "execution_count": 18,
   "id": "b3e7a607-642a-458f-b46c-d1555511e9d6",
   "metadata": {},
   "outputs": [
    {
     "data": {
      "text/plain": [
       "[2, 3]"
      ]
     },
     "execution_count": 18,
     "metadata": {},
     "output_type": "execute_result"
    }
   ],
   "source": [
    "my_list[1:3]"
   ]
  },
  {
   "cell_type": "code",
   "execution_count": 19,
   "id": "717378f3-7cbf-4a0a-b991-75557168ee51",
   "metadata": {},
   "outputs": [],
   "source": [
    "#Q7. What is the correct way to declare a variable named age and assign the value 25 to it?"
   ]
  },
  {
   "cell_type": "code",
   "execution_count": 20,
   "id": "03cad075-b8d8-44d8-af08-3ed792c1f33a",
   "metadata": {},
   "outputs": [],
   "source": [
    "age=25"
   ]
  },
  {
   "cell_type": "code",
   "execution_count": 21,
   "id": "160152ab-26d9-4a1f-9dd3-91e3564b22d6",
   "metadata": {},
   "outputs": [
    {
     "name": "stdout",
     "output_type": "stream",
     "text": [
      "25\n"
     ]
    }
   ],
   "source": [
    "print(age)"
   ]
  },
  {
   "cell_type": "code",
   "execution_count": 24,
   "id": "db928978-6cc4-4556-9e05-2ab3eae1dfbc",
   "metadata": {},
   "outputs": [],
   "source": [
    "#Q8. \"\"\"Declare a variable named price and assign the value 9.99 to it. What data type does this variable\n"
   ]
  },
  {
   "cell_type": "code",
   "execution_count": 25,
   "id": "a4691361-9301-474f-afe1-bdef271cbc4e",
   "metadata": {},
   "outputs": [],
   "source": [
    "price=99.9"
   ]
  },
  {
   "cell_type": "code",
   "execution_count": 26,
   "id": "c1e44abf-fec6-4298-9dd2-e3b945d2df6e",
   "metadata": {},
   "outputs": [
    {
     "name": "stdout",
     "output_type": "stream",
     "text": [
      "<class 'float'>\n"
     ]
    }
   ],
   "source": [
    "print(type(price))"
   ]
  },
  {
   "cell_type": "code",
   "execution_count": 27,
   "id": "8325242e-a253-486f-9556-ebd540d2dafa",
   "metadata": {},
   "outputs": [],
   "source": [
    "#Q9. Create a variable named name and assign your full name to it as a string. How would you print the\n",
    "#value of this variable?"
   ]
  },
  {
   "cell_type": "code",
   "execution_count": 28,
   "id": "838e1dad-0d0d-42f7-a56f-e3f7fc86a299",
   "metadata": {},
   "outputs": [],
   "source": [
    "name=\"rose jaiswal\""
   ]
  },
  {
   "cell_type": "code",
   "execution_count": 29,
   "id": "e2c4f60d-2ee4-4118-a499-7fa248b72b15",
   "metadata": {},
   "outputs": [
    {
     "name": "stdout",
     "output_type": "stream",
     "text": [
      "rose jaiswal\n"
     ]
    }
   ],
   "source": [
    "print(name)"
   ]
  },
  {
   "cell_type": "code",
   "execution_count": 30,
   "id": "9379bfc5-0bd5-4261-8d0c-2906b0602f8b",
   "metadata": {},
   "outputs": [],
   "source": [
    "#Q10. Given the string \"Hello, World!\", extract the substring \"World\"."
   ]
  },
  {
   "cell_type": "code",
   "execution_count": 31,
   "id": "ddf3dbaf-aa50-4a71-bc90-23a35bf4112c",
   "metadata": {},
   "outputs": [],
   "source": [
    "string=\"hello,World!\""
   ]
  },
  {
   "cell_type": "code",
   "execution_count": 32,
   "id": "beadfae0-8169-4b4a-aebd-2c92f139e86d",
   "metadata": {},
   "outputs": [
    {
     "data": {
      "text/plain": [
       "'World!'"
      ]
     },
     "execution_count": 32,
     "metadata": {},
     "output_type": "execute_result"
    }
   ],
   "source": [
    "string[6:]"
   ]
  },
  {
   "cell_type": "code",
   "execution_count": 34,
   "id": "75dade70-56da-4a26-b8a9-1031e148ffe9",
   "metadata": {},
   "outputs": [],
   "source": [
    "#Q11.Create a variable named \"is_student\" and assign it a boolean value indicating whether you are\n",
    "#currently a student or not."
   ]
  },
  {
   "cell_type": "code",
   "execution_count": 35,
   "id": "ad91d633-e02a-40fc-b290-1d2966b8b36e",
   "metadata": {},
   "outputs": [],
   "source": [
    "student_status = True "
   ]
  },
  {
   "cell_type": "code",
   "execution_count": null,
   "id": "78d0879b-c0c3-44f7-b097-8c09f8e8b28d",
   "metadata": {},
   "outputs": [],
   "source": []
  }
 ],
 "metadata": {
  "kernelspec": {
   "display_name": "Python 3 (ipykernel)",
   "language": "python",
   "name": "python3"
  },
  "language_info": {
   "codemirror_mode": {
    "name": "ipython",
    "version": 3
   },
   "file_extension": ".py",
   "mimetype": "text/x-python",
   "name": "python",
   "nbconvert_exporter": "python",
   "pygments_lexer": "ipython3",
   "version": "3.10.8"
  }
 },
 "nbformat": 4,
 "nbformat_minor": 5
}
